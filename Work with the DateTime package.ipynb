{
 "cells": [
  {
   "cell_type": "markdown",
   "metadata": {
    "id": "nCJn_LW7XTAB"
   },
   "source": [
    "## 1. Print the hour, minute and second for the timestamp provided below : "
   ]
  },
  {
   "cell_type": "code",
   "execution_count": 1,
   "metadata": {
    "executionInfo": {
     "elapsed": 38,
     "status": "ok",
     "timestamp": 1633875981134,
     "user": {
      "displayName": "Jeevak Ghosh",
      "photoUrl": "https://lh3.googleusercontent.com/a/default-user=s64",
      "userId": "10153434038967682924"
     },
     "user_tz": -330
    },
    "id": "O-CSXJoBXige"
   },
   "outputs": [],
   "source": [
    "from datetime import time\n",
    "\n",
    "# time(hour, minute, second, microsecond)\n",
    "t = time(12,28,55)"
   ]
  },
  {
   "cell_type": "code",
   "execution_count": 2,
   "metadata": {
    "colab": {
     "base_uri": "https://localhost:8080/"
    },
    "executionInfo": {
     "elapsed": 36,
     "status": "ok",
     "timestamp": 1633875981135,
     "user": {
      "displayName": "Jeevak Ghosh",
      "photoUrl": "https://lh3.googleusercontent.com/a/default-user=s64",
      "userId": "10153434038967682924"
     },
     "user_tz": -330
    },
    "id": "HFTffaTBXGnk",
    "outputId": "fa4f158c-a1fc-4db2-bcff-482e7e58f6ce"
   },
   "outputs": [
    {
     "name": "stdout",
     "output_type": "stream",
     "text": [
      "hour = 6\n",
      "minute = 45\n",
      "second = 25\n",
      "microsecond = 234566\n"
     ]
    }
   ],
   "source": [
    "# Solution : \n",
    "\n",
    "from datetime import time \n",
    "t = time(6, 45, 25, 234566)\n",
    "\n",
    "\n",
    "print(\"hour =\", t.hour)\n",
    "print(\"minute =\", t.minute)\n",
    "print(\"second =\", t.second)\n",
    "print(\"microsecond =\", t.microsecond)"
   ]
  },
  {
   "cell_type": "markdown",
   "metadata": {
    "id": "w8l2qfcvX8dS"
   },
   "source": [
    "## 2. Print the year, month, hour, minutes, seconds  : "
   ]
  },
  {
   "cell_type": "code",
   "execution_count": 3,
   "metadata": {
    "executionInfo": {
     "elapsed": 20,
     "status": "ok",
     "timestamp": 1633875981135,
     "user": {
      "displayName": "Jeevak Ghosh",
      "photoUrl": "https://lh3.googleusercontent.com/a/default-user=s64",
      "userId": "10153434038967682924"
     },
     "user_tz": -330
    },
    "id": "Af43qOfyYNSZ"
   },
   "outputs": [],
   "source": [
    "from datetime import datetime\n",
    "\n",
    "# Year, month, hour, minutes, seconds :\n",
    "t = datetime(2021, 1, 28, 23, 55, 59)\n"
   ]
  },
  {
   "cell_type": "code",
   "execution_count": 4,
   "metadata": {
    "colab": {
     "base_uri": "https://localhost:8080/"
    },
    "executionInfo": {
     "elapsed": 21,
     "status": "ok",
     "timestamp": 1633875981137,
     "user": {
      "displayName": "Jeevak Ghosh",
      "photoUrl": "https://lh3.googleusercontent.com/a/default-user=s64",
      "userId": "10153434038967682924"
     },
     "user_tz": -330
    },
    "id": "VA8C-0KkYI6l",
    "outputId": "22f67d69-4a51-4b99-8b81-60e286c33e9a"
   },
   "outputs": [
    {
     "name": "stdout",
     "output_type": "stream",
     "text": [
      "year = 2017\n",
      "month = 1\n",
      "hour = 23\n",
      "minute = 55\n",
      "seconds = 59\n"
     ]
    }
   ],
   "source": [
    "# Solution : \n",
    "\n",
    "from datetime import datetime\n",
    "\n",
    "t = datetime(2017, 1, 28, 23, 55, 59)\n",
    "print(\"year =\", t.year)\n",
    "print(\"month =\", t.month)\n",
    "print(\"hour =\", t.hour)\n",
    "print(\"minute =\", t.minute)\n",
    "print('seconds =', t.second)"
   ]
  },
  {
   "cell_type": "markdown",
   "metadata": {
    "id": "rPFBlg86ZdLw"
   },
   "source": [
    "## 3. Extract the name of the day from a datetime object : "
   ]
  },
  {
   "cell_type": "code",
   "execution_count": 5,
   "metadata": {
    "colab": {
     "base_uri": "https://localhost:8080/",
     "height": 35
    },
    "executionInfo": {
     "elapsed": 17,
     "status": "ok",
     "timestamp": 1633875981138,
     "user": {
      "displayName": "Jeevak Ghosh",
      "photoUrl": "https://lh3.googleusercontent.com/a/default-user=s64",
      "userId": "10153434038967682924"
     },
     "user_tz": -330
    },
    "id": "vmlQx4-kYMIV",
    "outputId": "b4046adf-c4a2-4845-c15c-744495f49651"
   },
   "outputs": [
    {
     "data": {
      "application/vnd.google.colaboratory.intrinsic+json": {
       "type": "string"
      },
      "text/plain": [
       "'Saturday'"
      ]
     },
     "execution_count": 5,
     "metadata": {},
     "output_type": "execute_result"
    }
   ],
   "source": [
    "from datetime import datetime\n",
    "t = datetime(2017, 1, 28, 23, 55, 59)\n",
    "t.strftime('%A')"
   ]
  },
  {
   "cell_type": "markdown",
   "metadata": {
    "id": "XrRB7WlVcWo0"
   },
   "source": [
    "## 4. Advanced : Get the name of Month, Day for the ranges of dates provided below : "
   ]
  },
  {
   "cell_type": "code",
   "execution_count": 6,
   "metadata": {
    "colab": {
     "base_uri": "https://localhost:8080/",
     "height": 414
    },
    "executionInfo": {
     "elapsed": 16,
     "status": "ok",
     "timestamp": 1633875981138,
     "user": {
      "displayName": "Jeevak Ghosh",
      "photoUrl": "https://lh3.googleusercontent.com/a/default-user=s64",
      "userId": "10153434038967682924"
     },
     "user_tz": -330
    },
    "id": "9zoIExaobUZJ",
    "outputId": "bb43ecf5-68eb-438f-b1dd-567de81af3be"
   },
   "outputs": [
    {
     "data": {
      "text/html": [
       "<div>\n",
       "<style scoped>\n",
       "    .dataframe tbody tr th:only-of-type {\n",
       "        vertical-align: middle;\n",
       "    }\n",
       "\n",
       "    .dataframe tbody tr th {\n",
       "        vertical-align: top;\n",
       "    }\n",
       "\n",
       "    .dataframe thead th {\n",
       "        text-align: right;\n",
       "    }\n",
       "</style>\n",
       "<table border=\"1\" class=\"dataframe\">\n",
       "  <thead>\n",
       "    <tr style=\"text-align: right;\">\n",
       "      <th></th>\n",
       "      <th>Date</th>\n",
       "    </tr>\n",
       "  </thead>\n",
       "  <tbody>\n",
       "    <tr>\n",
       "      <th>0</th>\n",
       "      <td>2008-01-01</td>\n",
       "    </tr>\n",
       "    <tr>\n",
       "      <th>1</th>\n",
       "      <td>2008-01-02</td>\n",
       "    </tr>\n",
       "    <tr>\n",
       "      <th>2</th>\n",
       "      <td>2008-01-03</td>\n",
       "    </tr>\n",
       "    <tr>\n",
       "      <th>3</th>\n",
       "      <td>2008-01-04</td>\n",
       "    </tr>\n",
       "    <tr>\n",
       "      <th>4</th>\n",
       "      <td>2008-01-05</td>\n",
       "    </tr>\n",
       "    <tr>\n",
       "      <th>...</th>\n",
       "      <td>...</td>\n",
       "    </tr>\n",
       "    <tr>\n",
       "      <th>56</th>\n",
       "      <td>2008-02-26</td>\n",
       "    </tr>\n",
       "    <tr>\n",
       "      <th>57</th>\n",
       "      <td>2008-02-27</td>\n",
       "    </tr>\n",
       "    <tr>\n",
       "      <th>58</th>\n",
       "      <td>2008-02-28</td>\n",
       "    </tr>\n",
       "    <tr>\n",
       "      <th>59</th>\n",
       "      <td>2008-02-29</td>\n",
       "    </tr>\n",
       "    <tr>\n",
       "      <th>60</th>\n",
       "      <td>2008-03-01</td>\n",
       "    </tr>\n",
       "  </tbody>\n",
       "</table>\n",
       "<p>61 rows × 1 columns</p>\n",
       "</div>"
      ],
      "text/plain": [
       "         Date\n",
       "0  2008-01-01\n",
       "1  2008-01-02\n",
       "2  2008-01-03\n",
       "3  2008-01-04\n",
       "4  2008-01-05\n",
       "..        ...\n",
       "56 2008-02-26\n",
       "57 2008-02-27\n",
       "58 2008-02-28\n",
       "59 2008-02-29\n",
       "60 2008-03-01\n",
       "\n",
       "[61 rows x 1 columns]"
      ]
     },
     "execution_count": 6,
     "metadata": {},
     "output_type": "execute_result"
    }
   ],
   "source": [
    "import pandas as pd\n",
    "dr = pd.date_range(start='2008-01-01', end='2008-03-01')\n",
    "df = pd.DataFrame()\n",
    "df['Date'] = dr\n",
    "df"
   ]
  },
  {
   "cell_type": "code",
   "execution_count": 7,
   "metadata": {
    "colab": {
     "base_uri": "https://localhost:8080/",
     "height": 414
    },
    "executionInfo": {
     "elapsed": 15,
     "status": "ok",
     "timestamp": 1633875981139,
     "user": {
      "displayName": "Jeevak Ghosh",
      "photoUrl": "https://lh3.googleusercontent.com/a/default-user=s64",
      "userId": "10153434038967682924"
     },
     "user_tz": -330
    },
    "id": "RMtuRRgFaDWz",
    "outputId": "72038d7b-7133-41c5-b5cd-01ec4e8c6624"
   },
   "outputs": [
    {
     "data": {
      "text/html": [
       "<div>\n",
       "<style scoped>\n",
       "    .dataframe tbody tr th:only-of-type {\n",
       "        vertical-align: middle;\n",
       "    }\n",
       "\n",
       "    .dataframe tbody tr th {\n",
       "        vertical-align: top;\n",
       "    }\n",
       "\n",
       "    .dataframe thead th {\n",
       "        text-align: right;\n",
       "    }\n",
       "</style>\n",
       "<table border=\"1\" class=\"dataframe\">\n",
       "  <thead>\n",
       "    <tr style=\"text-align: right;\">\n",
       "      <th></th>\n",
       "      <th>Date</th>\n",
       "      <th>Week_Day</th>\n",
       "      <th>Day_name</th>\n",
       "      <th>Month_name</th>\n",
       "    </tr>\n",
       "  </thead>\n",
       "  <tbody>\n",
       "    <tr>\n",
       "      <th>0</th>\n",
       "      <td>2008-01-01</td>\n",
       "      <td>1</td>\n",
       "      <td>Tuesday</td>\n",
       "      <td>January</td>\n",
       "    </tr>\n",
       "    <tr>\n",
       "      <th>1</th>\n",
       "      <td>2008-01-02</td>\n",
       "      <td>2</td>\n",
       "      <td>Wednesday</td>\n",
       "      <td>January</td>\n",
       "    </tr>\n",
       "    <tr>\n",
       "      <th>2</th>\n",
       "      <td>2008-01-03</td>\n",
       "      <td>3</td>\n",
       "      <td>Thursday</td>\n",
       "      <td>January</td>\n",
       "    </tr>\n",
       "    <tr>\n",
       "      <th>3</th>\n",
       "      <td>2008-01-04</td>\n",
       "      <td>4</td>\n",
       "      <td>Friday</td>\n",
       "      <td>January</td>\n",
       "    </tr>\n",
       "    <tr>\n",
       "      <th>4</th>\n",
       "      <td>2008-01-05</td>\n",
       "      <td>5</td>\n",
       "      <td>Saturday</td>\n",
       "      <td>January</td>\n",
       "    </tr>\n",
       "    <tr>\n",
       "      <th>...</th>\n",
       "      <td>...</td>\n",
       "      <td>...</td>\n",
       "      <td>...</td>\n",
       "      <td>...</td>\n",
       "    </tr>\n",
       "    <tr>\n",
       "      <th>56</th>\n",
       "      <td>2008-02-26</td>\n",
       "      <td>1</td>\n",
       "      <td>Tuesday</td>\n",
       "      <td>February</td>\n",
       "    </tr>\n",
       "    <tr>\n",
       "      <th>57</th>\n",
       "      <td>2008-02-27</td>\n",
       "      <td>2</td>\n",
       "      <td>Wednesday</td>\n",
       "      <td>February</td>\n",
       "    </tr>\n",
       "    <tr>\n",
       "      <th>58</th>\n",
       "      <td>2008-02-28</td>\n",
       "      <td>3</td>\n",
       "      <td>Thursday</td>\n",
       "      <td>February</td>\n",
       "    </tr>\n",
       "    <tr>\n",
       "      <th>59</th>\n",
       "      <td>2008-02-29</td>\n",
       "      <td>4</td>\n",
       "      <td>Friday</td>\n",
       "      <td>February</td>\n",
       "    </tr>\n",
       "    <tr>\n",
       "      <th>60</th>\n",
       "      <td>2008-03-01</td>\n",
       "      <td>5</td>\n",
       "      <td>Saturday</td>\n",
       "      <td>March</td>\n",
       "    </tr>\n",
       "  </tbody>\n",
       "</table>\n",
       "<p>61 rows × 4 columns</p>\n",
       "</div>"
      ],
      "text/plain": [
       "         Date  Week_Day   Day_name Month_name\n",
       "0  2008-01-01         1    Tuesday    January\n",
       "1  2008-01-02         2  Wednesday    January\n",
       "2  2008-01-03         3   Thursday    January\n",
       "3  2008-01-04         4     Friday    January\n",
       "4  2008-01-05         5   Saturday    January\n",
       "..        ...       ...        ...        ...\n",
       "56 2008-02-26         1    Tuesday   February\n",
       "57 2008-02-27         2  Wednesday   February\n",
       "58 2008-02-28         3   Thursday   February\n",
       "59 2008-02-29         4     Friday   February\n",
       "60 2008-03-01         5   Saturday      March\n",
       "\n",
       "[61 rows x 4 columns]"
      ]
     },
     "execution_count": 7,
     "metadata": {},
     "output_type": "execute_result"
    }
   ],
   "source": [
    "# Solution : \n",
    "\n",
    "import pandas as pd\n",
    "dr = pd.date_range(start='2008-01-01', end='2008-03-01')\n",
    "df = pd.DataFrame()\n",
    "df['Date'] = dr\n",
    "df['Week_Day'] = pd.to_datetime(dr).weekday\n",
    "df['Day_name'] = pd.to_datetime(dr).strftime(\"%A\")\n",
    "df['Month_name'] = pd.to_datetime(dr).strftime(\"%B\")\n",
    "df"
   ]
  },
  {
   "cell_type": "code",
   "execution_count": 7,
   "metadata": {
    "executionInfo": {
     "elapsed": 13,
     "status": "ok",
     "timestamp": 1633875981139,
     "user": {
      "displayName": "Jeevak Ghosh",
      "photoUrl": "https://lh3.googleusercontent.com/a/default-user=s64",
      "userId": "10153434038967682924"
     },
     "user_tz": -330
    },
    "id": "tYl-BBvkaHm9"
   },
   "outputs": [],
   "source": []
  }
 ],
 "metadata": {
  "colab": {
   "collapsed_sections": [],
   "name": "1.3.3 Practical activity_ Work with DateTime packages.ipynb",
   "provenance": []
  },
  "kernelspec": {
   "display_name": "Python 3",
   "language": "python",
   "name": "python3"
  },
  "language_info": {
   "codemirror_mode": {
    "name": "ipython",
    "version": 3
   },
   "file_extension": ".py",
   "mimetype": "text/x-python",
   "name": "python",
   "nbconvert_exporter": "python",
   "pygments_lexer": "ipython3",
   "version": "3.8.3"
  }
 },
 "nbformat": 4,
 "nbformat_minor": 1
}

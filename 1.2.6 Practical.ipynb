{
 "cells": [
  {
   "cell_type": "code",
   "execution_count": 2,
   "id": "7aee0d88",
   "metadata": {},
   "outputs": [
    {
     "name": "stdout",
     "output_type": "stream",
     "text": [
      "My name is Mark\n",
      "My favourite TV show is Money Heist\n"
     ]
    }
   ],
   "source": [
    "# this is my first line of code\n",
    "\n",
    "print('My name is Mark')\n",
    "print('My favourite TV show is Money Heist')"
   ]
  },
  {
   "cell_type": "code",
   "execution_count": 6,
   "id": "6a554bbf",
   "metadata": {},
   "outputs": [
    {
     "name": "stdout",
     "output_type": "stream",
     "text": [
      "December's sales total is 182900\n"
     ]
    }
   ],
   "source": [
    "a = 45000\n",
    "b = 23400\n",
    "c = 67000\n",
    "d = 34600\n",
    "e = 12900\n",
    "\n",
    "print(\"December's sales total is\", a + b + c + d + e)"
   ]
  },
  {
   "cell_type": "code",
   "execution_count": 13,
   "id": "b00a62d3",
   "metadata": {},
   "outputs": [],
   "source": [
    "def Total_Sales():\n",
    "    return a + b + c + d + e"
   ]
  },
  {
   "cell_type": "code",
   "execution_count": 14,
   "id": "25ef0970",
   "metadata": {},
   "outputs": [
    {
     "name": "stdout",
     "output_type": "stream",
     "text": [
      "182900\n"
     ]
    }
   ],
   "source": [
    "print(Total_Sales())"
   ]
  },
  {
   "cell_type": "code",
   "execution_count": 15,
   "id": "856befc7",
   "metadata": {},
   "outputs": [
    {
     "name": "stdout",
     "output_type": "stream",
     "text": [
      "The total sales in December was 182900\n"
     ]
    }
   ],
   "source": [
    "print(\"The total sales in December was\", Total_Sales())"
   ]
  },
  {
   "cell_type": "code",
   "execution_count": 16,
   "id": "c6b04d40",
   "metadata": {},
   "outputs": [],
   "source": [
    "def Avg_Sales():\n",
    "    return Total_Sales() / 5"
   ]
  },
  {
   "cell_type": "code",
   "execution_count": 17,
   "id": "1e9067ec",
   "metadata": {},
   "outputs": [
    {
     "name": "stdout",
     "output_type": "stream",
     "text": [
      "The average sale in December was 36580.0\n"
     ]
    }
   ],
   "source": [
    "print(\"The average sale in December was\", Avg_Sales())"
   ]
  },
  {
   "cell_type": "code",
   "execution_count": 18,
   "id": "8f7903da",
   "metadata": {},
   "outputs": [
    {
     "name": "stdout",
     "output_type": "stream",
     "text": [
      "The property price for property C is 60500\n"
     ]
    }
   ],
   "source": [
    "print(\"The property price for property C is\", c - 6500)"
   ]
  },
  {
   "cell_type": "code",
   "execution_count": null,
   "id": "a4a382db",
   "metadata": {},
   "outputs": [],
   "source": []
  }
 ],
 "metadata": {
  "kernelspec": {
   "display_name": "Python 3 (ipykernel)",
   "language": "python",
   "name": "python3"
  },
  "language_info": {
   "codemirror_mode": {
    "name": "ipython",
    "version": 3
   },
   "file_extension": ".py",
   "mimetype": "text/x-python",
   "name": "python",
   "nbconvert_exporter": "python",
   "pygments_lexer": "ipython3",
   "version": "3.9.7"
  }
 },
 "nbformat": 4,
 "nbformat_minor": 5
}
